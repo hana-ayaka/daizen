{
 "cells": [
  {
   "cell_type": "markdown",
   "metadata": {
    "id": "3ny6dmUznpwA"
   },
   "source": [
    "# 簡単な分析の実行例（R編）\n",
    "サンプルデータを読み込んで新しいデータを格納してみよう！</br>\n",
    "（『[RとPythonで学ぶ実践的データサイエンス&機械学習]( https://www.amazon.co.jp/dp/429710508X/ref=cm_sw_em_r_mt_dp_hXISFbNZQVC16)』より抜粋）\n",
    "<br>\n",
    "講義資料 p32-37 プログラミングの基礎知識　R　参照"
   ]
  },
  {
   "cell_type": "markdown",
   "metadata": {
    "id": "9BTr350SoHqt"
   },
   "source": [
    "**Step1**　ライブラリ　ggplot2 を読み込む（ライブラリの読み込みの練習です）\n",
    "<br>\n",
    "ヒント　library()でライブラリの読み込みができます"
   ]
  },
  {
   "cell_type": "code",
   "execution_count": 1,
   "metadata": {
    "id": "SZ75ZhGb9DiM"
   },
   "outputs": [
    {
     "name": "stderr",
     "output_type": "stream",
     "text": [
      "Warning message:\n",
      "“replacing previous import ‘lifecycle::last_warnings’ by ‘rlang::last_warnings’ when loading ‘tibble’”\n"
     ]
    }
   ],
   "source": [
    "library(ggplot2)"
   ]
  },
  {
   "cell_type": "markdown",
   "metadata": {
    "id": "lYKRqMkwobvY"
   },
   "source": [
    "**Step2**　CSVファイルを読み込んでデータフレーム(DF)に格納\n",
    "<br>\n",
    "ヒント　read.table（\"httpsリンク\", sep=\",\", header = T）でカンマ区切りのヘッダー付きファイルを読み込みます(講義資料p33)\n"
   ]
  },
  {
   "cell_type": "code",
   "execution_count": 2,
   "metadata": {
    "id": "1seaIRWd9EUm"
   },
   "outputs": [],
   "source": [
    "DF <- read.table(\"https://raw.githubusercontent.com/mkato-riken/test/main/sample.csv\", sep =\",\", header = T)"
   ]
  },
  {
   "cell_type": "markdown",
   "metadata": {
    "id": "WSNz0ZZjos__"
   },
   "source": [
    "**Step3**　先頭の６行を確認\n",
    "<br>\n",
    "ヒント　データフレーム名[行,列]で表示できます（講義資料p34）"
   ]
  },
  {
   "cell_type": "code",
   "execution_count": 3,
   "metadata": {
    "colab": {
     "base_uri": "https://localhost:8080/",
     "height": 283
    },
    "id": "u4Wvo_qK9E8c",
    "outputId": "cd45b1e7-bdc7-48d5-b2eb-84976302370c"
   },
   "outputs": [
    {
     "data": {
      "text/html": [
       "<table class=\"dataframe\">\n",
       "<caption>A data.frame: 6 × 2</caption>\n",
       "<thead>\n",
       "\t<tr><th></th><th scope=col>varA</th><th scope=col>varB</th></tr>\n",
       "\t<tr><th></th><th scope=col>&lt;dbl&gt;</th><th scope=col>&lt;dbl&gt;</th></tr>\n",
       "</thead>\n",
       "<tbody>\n",
       "\t<tr><th scope=row>1</th><td> 1.0923267</td><td> 0.7013870</td></tr>\n",
       "\t<tr><th scope=row>2</th><td>-0.2123608</td><td> 0.1097072</td></tr>\n",
       "\t<tr><th scope=row>3</th><td> 0.8504561</td><td> 0.2781445</td></tr>\n",
       "\t<tr><th scope=row>4</th><td> 0.9691980</td><td> 1.2924353</td></tr>\n",
       "\t<tr><th scope=row>5</th><td> 2.5962176</td><td> 0.9482120</td></tr>\n",
       "\t<tr><th scope=row>6</th><td>-0.5082902</td><td>-0.6481637</td></tr>\n",
       "</tbody>\n",
       "</table>\n"
      ],
      "text/latex": [
       "A data.frame: 6 × 2\n",
       "\\begin{tabular}{r|ll}\n",
       "  & varA & varB\\\\\n",
       "  & <dbl> & <dbl>\\\\\n",
       "\\hline\n",
       "\t1 &  1.0923267 &  0.7013870\\\\\n",
       "\t2 & -0.2123608 &  0.1097072\\\\\n",
       "\t3 &  0.8504561 &  0.2781445\\\\\n",
       "\t4 &  0.9691980 &  1.2924353\\\\\n",
       "\t5 &  2.5962176 &  0.9482120\\\\\n",
       "\t6 & -0.5082902 & -0.6481637\\\\\n",
       "\\end{tabular}\n"
      ],
      "text/markdown": [
       "\n",
       "A data.frame: 6 × 2\n",
       "\n",
       "| <!--/--> | varA &lt;dbl&gt; | varB &lt;dbl&gt; |\n",
       "|---|---|---|\n",
       "| 1 |  1.0923267 |  0.7013870 |\n",
       "| 2 | -0.2123608 |  0.1097072 |\n",
       "| 3 |  0.8504561 |  0.2781445 |\n",
       "| 4 |  0.9691980 |  1.2924353 |\n",
       "| 5 |  2.5962176 |  0.9482120 |\n",
       "| 6 | -0.5082902 | -0.6481637 |\n",
       "\n"
      ],
      "text/plain": [
       "  varA       varB      \n",
       "1  1.0923267  0.7013870\n",
       "2 -0.2123608  0.1097072\n",
       "3  0.8504561  0.2781445\n",
       "4  0.9691980  1.2924353\n",
       "5  2.5962176  0.9482120\n",
       "6 -0.5082902 -0.6481637"
      ]
     },
     "metadata": {},
     "output_type": "display_data"
    }
   ],
   "source": [
    "DF[0:6,]"
   ]
  },
  {
   "cell_type": "markdown",
   "metadata": {
    "id": "LmEmlTLipiIu"
   },
   "source": [
    "**Step４**　データ型と行数、列数を確認\n",
    "<br>\n",
    "ヒント　class()でデータ型、dim()で行数列数が確認できます(講義資料p30、p33)"
   ]
  },
  {
   "cell_type": "code",
   "execution_count": 4,
   "metadata": {
    "colab": {
     "base_uri": "https://localhost:8080/"
    },
    "id": "FWPBkrEa9Fmk",
    "outputId": "c1f0b85c-8d3e-4de6-d938-e13ab79cf8db"
   },
   "outputs": [
    {
     "name": "stdout",
     "output_type": "stream",
     "text": [
      "[1] \"data.frame\"\n",
      "[1] 200   2\n"
     ]
    }
   ],
   "source": [
    "#データ型\n",
    "print(class(DF))\n",
    "#行列数\n",
    "print(dim(DF))"
   ]
  },
  {
   "cell_type": "markdown",
   "metadata": {
    "id": "7DzF_-vmqBKE"
   },
   "source": [
    "**Step5**　列ごとの最大値、最小値を確認\n",
    "<br>\n",
    "ヒント　関数()で算出できます(講義資料p34)\n"
   ]
  },
  {
   "cell_type": "code",
   "execution_count": 5,
   "metadata": {
    "colab": {
     "base_uri": "https://localhost:8080/"
    },
    "id": "8Rao8ruu9GOU",
    "outputId": "2feae06e-c5b7-40f2-9895-a5cca4f007e6"
   },
   "outputs": [
    {
     "name": "stdout",
     "output_type": "stream",
     "text": [
      "[1] 2.596218\n",
      "[1] 2.294457\n",
      "[1] -2.801946\n",
      "[1] -3.364918\n"
     ]
    }
   ],
   "source": [
    "#最大値\n",
    "print(max(DF$varA))\n",
    "print(max(DF$varB))\n",
    "#最小値\n",
    "print(min(DF$varA))\n",
    "print(min(DF$varB))"
   ]
  },
  {
   "cell_type": "markdown",
   "metadata": {
    "id": "qiH_whfXqIQ0"
   },
   "source": [
    "**Step6**　varAとvarBをそれぞれ２乗して足した値が１未満かどうかを判定\n",
    "<br>\n",
    "（判定結果を id　に格納する）\n",
    "<br>\n",
    "ヒント　列の値どうしで演算し、結果を新しい列に格納します（講義資料p29、p34）"
   ]
  },
  {
   "cell_type": "code",
   "execution_count": 6,
   "metadata": {
    "colab": {
     "base_uri": "https://localhost:8080/",
     "height": 187
    },
    "id": "73k2RYa09G4O",
    "outputId": "af6dbe76-8a06-43cb-c59c-21dd4fc23caf"
   },
   "outputs": [
    {
     "data": {
      "text/html": [
       "<table class=\"dataframe\">\n",
       "<caption>A data.frame: 200 × 3</caption>\n",
       "<thead>\n",
       "\t<tr><th scope=col>varA</th><th scope=col>varB</th><th scope=col>id</th></tr>\n",
       "\t<tr><th scope=col>&lt;dbl&gt;</th><th scope=col>&lt;dbl&gt;</th><th scope=col>&lt;lgl&gt;</th></tr>\n",
       "</thead>\n",
       "<tbody>\n",
       "\t<tr><td> 1.09232670</td><td> 0.70138700</td><td>FALSE</td></tr>\n",
       "\t<tr><td>-0.21236082</td><td> 0.10970724</td><td> TRUE</td></tr>\n",
       "\t<tr><td> 0.85045612</td><td> 0.27814447</td><td> TRUE</td></tr>\n",
       "\t<tr><td> 0.96919796</td><td> 1.29243529</td><td>FALSE</td></tr>\n",
       "\t<tr><td> 2.59621764</td><td> 0.94821201</td><td>FALSE</td></tr>\n",
       "\t<tr><td>-0.50829022</td><td>-0.64816372</td><td> TRUE</td></tr>\n",
       "\t<tr><td> 0.32572647</td><td> 1.05658389</td><td>FALSE</td></tr>\n",
       "\t<tr><td>-1.75914042</td><td>-0.78963746</td><td>FALSE</td></tr>\n",
       "\t<tr><td> 1.39128396</td><td> 1.23018252</td><td>FALSE</td></tr>\n",
       "\t<tr><td>-0.27909097</td><td>-0.44635137</td><td> TRUE</td></tr>\n",
       "\t<tr><td> 0.18648272</td><td> 0.72711669</td><td> TRUE</td></tr>\n",
       "\t<tr><td>-1.11017893</td><td>-0.07939147</td><td>FALSE</td></tr>\n",
       "\t<tr><td> 0.84269275</td><td> 0.49609474</td><td> TRUE</td></tr>\n",
       "\t<tr><td>-0.74507707</td><td>-0.66911555</td><td>FALSE</td></tr>\n",
       "\t<tr><td>-0.98312605</td><td>-1.39218888</td><td>FALSE</td></tr>\n",
       "\t<tr><td> 0.68147906</td><td> 0.82956842</td><td>FALSE</td></tr>\n",
       "\t<tr><td>-0.38284443</td><td> 0.47161502</td><td> TRUE</td></tr>\n",
       "\t<tr><td>-0.41489346</td><td>-0.30257940</td><td> TRUE</td></tr>\n",
       "\t<tr><td> 1.18150805</td><td> 1.43868605</td><td>FALSE</td></tr>\n",
       "\t<tr><td>-1.89119305</td><td>-2.14095746</td><td>FALSE</td></tr>\n",
       "\t<tr><td> 0.17025276</td><td> 0.46363858</td><td> TRUE</td></tr>\n",
       "\t<tr><td> 0.14607280</td><td> 0.94300520</td><td> TRUE</td></tr>\n",
       "\t<tr><td>-0.13037860</td><td> 1.01143972</td><td>FALSE</td></tr>\n",
       "\t<tr><td> 0.83492273</td><td> 1.78253621</td><td>FALSE</td></tr>\n",
       "\t<tr><td>-0.24312847</td><td>-0.86107069</td><td> TRUE</td></tr>\n",
       "\t<tr><td>-0.41333446</td><td>-0.25090406</td><td> TRUE</td></tr>\n",
       "\t<tr><td> 0.78944342</td><td> 1.20667612</td><td>FALSE</td></tr>\n",
       "\t<tr><td>-0.29766350</td><td>-0.04816734</td><td> TRUE</td></tr>\n",
       "\t<tr><td> 0.02326076</td><td> 1.24930282</td><td>FALSE</td></tr>\n",
       "\t<tr><td> 1.12779963</td><td> 1.66115192</td><td>FALSE</td></tr>\n",
       "\t<tr><td>⋮</td><td>⋮</td><td>⋮</td></tr>\n",
       "\t<tr><td> 0.53273214</td><td> 0.83169238</td><td> TRUE</td></tr>\n",
       "\t<tr><td> 0.47910514</td><td> 0.15524822</td><td> TRUE</td></tr>\n",
       "\t<tr><td> 0.98299812</td><td> 0.63325610</td><td>FALSE</td></tr>\n",
       "\t<tr><td> 0.10254537</td><td> 0.68948862</td><td> TRUE</td></tr>\n",
       "\t<tr><td> 1.19731332</td><td> 0.51051895</td><td>FALSE</td></tr>\n",
       "\t<tr><td> 0.24341006</td><td>-0.10032500</td><td> TRUE</td></tr>\n",
       "\t<tr><td> 1.08529296</td><td> 0.89121537</td><td>FALSE</td></tr>\n",
       "\t<tr><td>-0.30863325</td><td>-0.79841522</td><td> TRUE</td></tr>\n",
       "\t<tr><td>-0.67903292</td><td>-0.61080589</td><td> TRUE</td></tr>\n",
       "\t<tr><td>-0.02685581</td><td>-0.13840504</td><td> TRUE</td></tr>\n",
       "\t<tr><td>-0.52672056</td><td>-0.20218188</td><td> TRUE</td></tr>\n",
       "\t<tr><td> 0.64400712</td><td>-1.21364210</td><td>FALSE</td></tr>\n",
       "\t<tr><td>-0.25408038</td><td>-1.49456765</td><td>FALSE</td></tr>\n",
       "\t<tr><td>-0.72405101</td><td>-0.13019058</td><td> TRUE</td></tr>\n",
       "\t<tr><td>-1.30031832</td><td>-0.89730911</td><td>FALSE</td></tr>\n",
       "\t<tr><td>-0.13270522</td><td> 1.31969444</td><td>FALSE</td></tr>\n",
       "\t<tr><td>-2.23641059</td><td>-3.36491775</td><td>FALSE</td></tr>\n",
       "\t<tr><td> 0.44200456</td><td>-0.02524363</td><td> TRUE</td></tr>\n",
       "\t<tr><td> 0.28277584</td><td>-0.73535296</td><td> TRUE</td></tr>\n",
       "\t<tr><td> 0.59460444</td><td>-1.57466013</td><td>FALSE</td></tr>\n",
       "\t<tr><td>-1.92379558</td><td>-1.46571801</td><td>FALSE</td></tr>\n",
       "\t<tr><td> 0.64874433</td><td>-0.89550723</td><td>FALSE</td></tr>\n",
       "\t<tr><td> 0.39698554</td><td> 0.37214222</td><td> TRUE</td></tr>\n",
       "\t<tr><td> 0.96212417</td><td> 0.84844226</td><td>FALSE</td></tr>\n",
       "\t<tr><td> 1.86657816</td><td> 1.46372870</td><td>FALSE</td></tr>\n",
       "\t<tr><td>-0.19132887</td><td>-0.53502560</td><td> TRUE</td></tr>\n",
       "\t<tr><td>-0.07172285</td><td> 0.89193385</td><td> TRUE</td></tr>\n",
       "\t<tr><td> 1.17725522</td><td>-0.57262780</td><td>FALSE</td></tr>\n",
       "\t<tr><td>-1.65510644</td><td>-0.12927533</td><td>FALSE</td></tr>\n",
       "\t<tr><td> 0.55257358</td><td> 0.34773955</td><td> TRUE</td></tr>\n",
       "</tbody>\n",
       "</table>\n"
      ],
      "text/latex": [
       "A data.frame: 200 × 3\n",
       "\\begin{tabular}{lll}\n",
       " varA & varB & id\\\\\n",
       " <dbl> & <dbl> & <lgl>\\\\\n",
       "\\hline\n",
       "\t  1.09232670 &  0.70138700 & FALSE\\\\\n",
       "\t -0.21236082 &  0.10970724 &  TRUE\\\\\n",
       "\t  0.85045612 &  0.27814447 &  TRUE\\\\\n",
       "\t  0.96919796 &  1.29243529 & FALSE\\\\\n",
       "\t  2.59621764 &  0.94821201 & FALSE\\\\\n",
       "\t -0.50829022 & -0.64816372 &  TRUE\\\\\n",
       "\t  0.32572647 &  1.05658389 & FALSE\\\\\n",
       "\t -1.75914042 & -0.78963746 & FALSE\\\\\n",
       "\t  1.39128396 &  1.23018252 & FALSE\\\\\n",
       "\t -0.27909097 & -0.44635137 &  TRUE\\\\\n",
       "\t  0.18648272 &  0.72711669 &  TRUE\\\\\n",
       "\t -1.11017893 & -0.07939147 & FALSE\\\\\n",
       "\t  0.84269275 &  0.49609474 &  TRUE\\\\\n",
       "\t -0.74507707 & -0.66911555 & FALSE\\\\\n",
       "\t -0.98312605 & -1.39218888 & FALSE\\\\\n",
       "\t  0.68147906 &  0.82956842 & FALSE\\\\\n",
       "\t -0.38284443 &  0.47161502 &  TRUE\\\\\n",
       "\t -0.41489346 & -0.30257940 &  TRUE\\\\\n",
       "\t  1.18150805 &  1.43868605 & FALSE\\\\\n",
       "\t -1.89119305 & -2.14095746 & FALSE\\\\\n",
       "\t  0.17025276 &  0.46363858 &  TRUE\\\\\n",
       "\t  0.14607280 &  0.94300520 &  TRUE\\\\\n",
       "\t -0.13037860 &  1.01143972 & FALSE\\\\\n",
       "\t  0.83492273 &  1.78253621 & FALSE\\\\\n",
       "\t -0.24312847 & -0.86107069 &  TRUE\\\\\n",
       "\t -0.41333446 & -0.25090406 &  TRUE\\\\\n",
       "\t  0.78944342 &  1.20667612 & FALSE\\\\\n",
       "\t -0.29766350 & -0.04816734 &  TRUE\\\\\n",
       "\t  0.02326076 &  1.24930282 & FALSE\\\\\n",
       "\t  1.12779963 &  1.66115192 & FALSE\\\\\n",
       "\t ⋮ & ⋮ & ⋮\\\\\n",
       "\t  0.53273214 &  0.83169238 &  TRUE\\\\\n",
       "\t  0.47910514 &  0.15524822 &  TRUE\\\\\n",
       "\t  0.98299812 &  0.63325610 & FALSE\\\\\n",
       "\t  0.10254537 &  0.68948862 &  TRUE\\\\\n",
       "\t  1.19731332 &  0.51051895 & FALSE\\\\\n",
       "\t  0.24341006 & -0.10032500 &  TRUE\\\\\n",
       "\t  1.08529296 &  0.89121537 & FALSE\\\\\n",
       "\t -0.30863325 & -0.79841522 &  TRUE\\\\\n",
       "\t -0.67903292 & -0.61080589 &  TRUE\\\\\n",
       "\t -0.02685581 & -0.13840504 &  TRUE\\\\\n",
       "\t -0.52672056 & -0.20218188 &  TRUE\\\\\n",
       "\t  0.64400712 & -1.21364210 & FALSE\\\\\n",
       "\t -0.25408038 & -1.49456765 & FALSE\\\\\n",
       "\t -0.72405101 & -0.13019058 &  TRUE\\\\\n",
       "\t -1.30031832 & -0.89730911 & FALSE\\\\\n",
       "\t -0.13270522 &  1.31969444 & FALSE\\\\\n",
       "\t -2.23641059 & -3.36491775 & FALSE\\\\\n",
       "\t  0.44200456 & -0.02524363 &  TRUE\\\\\n",
       "\t  0.28277584 & -0.73535296 &  TRUE\\\\\n",
       "\t  0.59460444 & -1.57466013 & FALSE\\\\\n",
       "\t -1.92379558 & -1.46571801 & FALSE\\\\\n",
       "\t  0.64874433 & -0.89550723 & FALSE\\\\\n",
       "\t  0.39698554 &  0.37214222 &  TRUE\\\\\n",
       "\t  0.96212417 &  0.84844226 & FALSE\\\\\n",
       "\t  1.86657816 &  1.46372870 & FALSE\\\\\n",
       "\t -0.19132887 & -0.53502560 &  TRUE\\\\\n",
       "\t -0.07172285 &  0.89193385 &  TRUE\\\\\n",
       "\t  1.17725522 & -0.57262780 & FALSE\\\\\n",
       "\t -1.65510644 & -0.12927533 & FALSE\\\\\n",
       "\t  0.55257358 &  0.34773955 &  TRUE\\\\\n",
       "\\end{tabular}\n"
      ],
      "text/markdown": [
       "\n",
       "A data.frame: 200 × 3\n",
       "\n",
       "| varA &lt;dbl&gt; | varB &lt;dbl&gt; | id &lt;lgl&gt; |\n",
       "|---|---|---|\n",
       "|  1.09232670 |  0.70138700 | FALSE |\n",
       "| -0.21236082 |  0.10970724 |  TRUE |\n",
       "|  0.85045612 |  0.27814447 |  TRUE |\n",
       "|  0.96919796 |  1.29243529 | FALSE |\n",
       "|  2.59621764 |  0.94821201 | FALSE |\n",
       "| -0.50829022 | -0.64816372 |  TRUE |\n",
       "|  0.32572647 |  1.05658389 | FALSE |\n",
       "| -1.75914042 | -0.78963746 | FALSE |\n",
       "|  1.39128396 |  1.23018252 | FALSE |\n",
       "| -0.27909097 | -0.44635137 |  TRUE |\n",
       "|  0.18648272 |  0.72711669 |  TRUE |\n",
       "| -1.11017893 | -0.07939147 | FALSE |\n",
       "|  0.84269275 |  0.49609474 |  TRUE |\n",
       "| -0.74507707 | -0.66911555 | FALSE |\n",
       "| -0.98312605 | -1.39218888 | FALSE |\n",
       "|  0.68147906 |  0.82956842 | FALSE |\n",
       "| -0.38284443 |  0.47161502 |  TRUE |\n",
       "| -0.41489346 | -0.30257940 |  TRUE |\n",
       "|  1.18150805 |  1.43868605 | FALSE |\n",
       "| -1.89119305 | -2.14095746 | FALSE |\n",
       "|  0.17025276 |  0.46363858 |  TRUE |\n",
       "|  0.14607280 |  0.94300520 |  TRUE |\n",
       "| -0.13037860 |  1.01143972 | FALSE |\n",
       "|  0.83492273 |  1.78253621 | FALSE |\n",
       "| -0.24312847 | -0.86107069 |  TRUE |\n",
       "| -0.41333446 | -0.25090406 |  TRUE |\n",
       "|  0.78944342 |  1.20667612 | FALSE |\n",
       "| -0.29766350 | -0.04816734 |  TRUE |\n",
       "|  0.02326076 |  1.24930282 | FALSE |\n",
       "|  1.12779963 |  1.66115192 | FALSE |\n",
       "| ⋮ | ⋮ | ⋮ |\n",
       "|  0.53273214 |  0.83169238 |  TRUE |\n",
       "|  0.47910514 |  0.15524822 |  TRUE |\n",
       "|  0.98299812 |  0.63325610 | FALSE |\n",
       "|  0.10254537 |  0.68948862 |  TRUE |\n",
       "|  1.19731332 |  0.51051895 | FALSE |\n",
       "|  0.24341006 | -0.10032500 |  TRUE |\n",
       "|  1.08529296 |  0.89121537 | FALSE |\n",
       "| -0.30863325 | -0.79841522 |  TRUE |\n",
       "| -0.67903292 | -0.61080589 |  TRUE |\n",
       "| -0.02685581 | -0.13840504 |  TRUE |\n",
       "| -0.52672056 | -0.20218188 |  TRUE |\n",
       "|  0.64400712 | -1.21364210 | FALSE |\n",
       "| -0.25408038 | -1.49456765 | FALSE |\n",
       "| -0.72405101 | -0.13019058 |  TRUE |\n",
       "| -1.30031832 | -0.89730911 | FALSE |\n",
       "| -0.13270522 |  1.31969444 | FALSE |\n",
       "| -2.23641059 | -3.36491775 | FALSE |\n",
       "|  0.44200456 | -0.02524363 |  TRUE |\n",
       "|  0.28277584 | -0.73535296 |  TRUE |\n",
       "|  0.59460444 | -1.57466013 | FALSE |\n",
       "| -1.92379558 | -1.46571801 | FALSE |\n",
       "|  0.64874433 | -0.89550723 | FALSE |\n",
       "|  0.39698554 |  0.37214222 |  TRUE |\n",
       "|  0.96212417 |  0.84844226 | FALSE |\n",
       "|  1.86657816 |  1.46372870 | FALSE |\n",
       "| -0.19132887 | -0.53502560 |  TRUE |\n",
       "| -0.07172285 |  0.89193385 |  TRUE |\n",
       "|  1.17725522 | -0.57262780 | FALSE |\n",
       "| -1.65510644 | -0.12927533 | FALSE |\n",
       "|  0.55257358 |  0.34773955 |  TRUE |\n",
       "\n"
      ],
      "text/plain": [
       "    varA        varB        id   \n",
       "1    1.09232670  0.70138700 FALSE\n",
       "2   -0.21236082  0.10970724  TRUE\n",
       "3    0.85045612  0.27814447  TRUE\n",
       "4    0.96919796  1.29243529 FALSE\n",
       "5    2.59621764  0.94821201 FALSE\n",
       "6   -0.50829022 -0.64816372  TRUE\n",
       "7    0.32572647  1.05658389 FALSE\n",
       "8   -1.75914042 -0.78963746 FALSE\n",
       "9    1.39128396  1.23018252 FALSE\n",
       "10  -0.27909097 -0.44635137  TRUE\n",
       "11   0.18648272  0.72711669  TRUE\n",
       "12  -1.11017893 -0.07939147 FALSE\n",
       "13   0.84269275  0.49609474  TRUE\n",
       "14  -0.74507707 -0.66911555 FALSE\n",
       "15  -0.98312605 -1.39218888 FALSE\n",
       "16   0.68147906  0.82956842 FALSE\n",
       "17  -0.38284443  0.47161502  TRUE\n",
       "18  -0.41489346 -0.30257940  TRUE\n",
       "19   1.18150805  1.43868605 FALSE\n",
       "20  -1.89119305 -2.14095746 FALSE\n",
       "21   0.17025276  0.46363858  TRUE\n",
       "22   0.14607280  0.94300520  TRUE\n",
       "23  -0.13037860  1.01143972 FALSE\n",
       "24   0.83492273  1.78253621 FALSE\n",
       "25  -0.24312847 -0.86107069  TRUE\n",
       "26  -0.41333446 -0.25090406  TRUE\n",
       "27   0.78944342  1.20667612 FALSE\n",
       "28  -0.29766350 -0.04816734  TRUE\n",
       "29   0.02326076  1.24930282 FALSE\n",
       "30   1.12779963  1.66115192 FALSE\n",
       "⋮   ⋮           ⋮           ⋮    \n",
       "171  0.53273214  0.83169238  TRUE\n",
       "172  0.47910514  0.15524822  TRUE\n",
       "173  0.98299812  0.63325610 FALSE\n",
       "174  0.10254537  0.68948862  TRUE\n",
       "175  1.19731332  0.51051895 FALSE\n",
       "176  0.24341006 -0.10032500  TRUE\n",
       "177  1.08529296  0.89121537 FALSE\n",
       "178 -0.30863325 -0.79841522  TRUE\n",
       "179 -0.67903292 -0.61080589  TRUE\n",
       "180 -0.02685581 -0.13840504  TRUE\n",
       "181 -0.52672056 -0.20218188  TRUE\n",
       "182  0.64400712 -1.21364210 FALSE\n",
       "183 -0.25408038 -1.49456765 FALSE\n",
       "184 -0.72405101 -0.13019058  TRUE\n",
       "185 -1.30031832 -0.89730911 FALSE\n",
       "186 -0.13270522  1.31969444 FALSE\n",
       "187 -2.23641059 -3.36491775 FALSE\n",
       "188  0.44200456 -0.02524363  TRUE\n",
       "189  0.28277584 -0.73535296  TRUE\n",
       "190  0.59460444 -1.57466013 FALSE\n",
       "191 -1.92379558 -1.46571801 FALSE\n",
       "192  0.64874433 -0.89550723 FALSE\n",
       "193  0.39698554  0.37214222  TRUE\n",
       "194  0.96212417  0.84844226 FALSE\n",
       "195  1.86657816  1.46372870 FALSE\n",
       "196 -0.19132887 -0.53502560  TRUE\n",
       "197 -0.07172285  0.89193385  TRUE\n",
       "198  1.17725522 -0.57262780 FALSE\n",
       "199 -1.65510644 -0.12927533 FALSE\n",
       "200  0.55257358  0.34773955  TRUE"
      ]
     },
     "metadata": {},
     "output_type": "display_data"
    }
   ],
   "source": [
    "DF$id <- DF$varA^2 + DF$varB^2 < 1\n",
    "DF\n"
   ]
  },
  {
   "cell_type": "code",
   "execution_count": null,
   "metadata": {},
   "outputs": [],
   "source": []
  }
 ],
 "metadata": {
  "colab": {
   "collapsed_sections": [],
   "name": "R_ex1_2021.ipynb",
   "provenance": []
  },
  "kernelspec": {
   "display_name": "R",
   "language": "R",
   "name": "ir"
  },
  "language_info": {
   "codemirror_mode": "r",
   "file_extension": ".r",
   "mimetype": "text/x-r-source",
   "name": "R",
   "pygments_lexer": "r",
   "version": "3.6.3"
  }
 },
 "nbformat": 4,
 "nbformat_minor": 4
}
