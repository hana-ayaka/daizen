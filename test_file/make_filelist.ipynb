{
 "cells": [
  {
   "cell_type": "markdown",
   "id": "84fbfa1d-631c-4d03-8545-812be3bd8be7",
   "metadata": {},
   "source": [
    "# ファイルリストを作成\n",
    "M1MBPで実験</br>\n",
    "参考：https://qiita.com/amowwee/items/e63b3610ea750f7dba1b"
   ]
  },
  {
   "cell_type": "code",
   "execution_count": 1,
   "id": "a48f7b12-f6e3-4767-ba4f-b2af25962e76",
   "metadata": {},
   "outputs": [],
   "source": [
    "from pathlib import Path"
   ]
  },
  {
   "cell_type": "code",
   "execution_count": 5,
   "id": "4aa00c45-4923-4956-9d82-663c7fd90220",
   "metadata": {},
   "outputs": [
    {
     "data": {
      "text/plain": [
       "[PosixPath('../100knock-process-visualization/chapter-1'),\n",
       " PosixPath('../100knock-process-visualization/font.zip')]"
      ]
     },
     "execution_count": 5,
     "metadata": {},
     "output_type": "execute_result"
    }
   ],
   "source": [
    "# Pathオブジェクトを生成\n",
    "p = Path(\"../100knock-process-visualization/\")\n",
    "\n",
    "# 100knock~~~直下のファイルとディレクトリを取得\n",
    "# Path.glob(pattern)はジェネレータを返す。結果を明示するためlist化しているが、普段は不要。\n",
    "list(p.glob(\"*\"))"
   ]
  },
  {
   "cell_type": "code",
   "execution_count": 6,
   "id": "252379a9-d41e-49f8-aa95-5870cdc21759",
   "metadata": {},
   "outputs": [
    {
     "data": {
      "text/plain": [
       "[PosixPath('../100knock-process-visualization/chapter-1/data/22_shizuoka_all_20210331.csv'),\n",
       " PosixPath('../100knock-process-visualization/chapter-1/data/diff_20210401.csv'),\n",
       " PosixPath('../100knock-process-visualization/chapter-1/data/diff_20210405.csv'),\n",
       " PosixPath('../100knock-process-visualization/chapter-1/data/diff_20210406.csv'),\n",
       " PosixPath('../100knock-process-visualization/chapter-1/data/diff_20210407.csv'),\n",
       " PosixPath('../100knock-process-visualization/chapter-1/data/diff_20210408.csv'),\n",
       " PosixPath('../100knock-process-visualization/chapter-1/data/diff_20210409.csv'),\n",
       " PosixPath('../100knock-process-visualization/chapter-1/data/mst_closeCause.csv'),\n",
       " PosixPath('../100knock-process-visualization/chapter-1/data/mst_corp_kind.csv'),\n",
       " PosixPath('../100knock-process-visualization/chapter-1/data/mst_correct_kbn.csv'),\n",
       " PosixPath('../100knock-process-visualization/chapter-1/data/mst_hihyoji.csv'),\n",
       " PosixPath('../100knock-process-visualization/chapter-1/data/mst_latest.csv'),\n",
       " PosixPath('../100knock-process-visualization/chapter-1/data/mst_process_kbn.csv'),\n",
       " PosixPath('../100knock-process-visualization/chapter-1/data/output/knock20_graphdata.csv'),\n",
       " PosixPath('../100knock-process-visualization/chapter-1/data/output/processed_shizuoka.csv')]"
      ]
     },
     "execution_count": 6,
     "metadata": {},
     "output_type": "execute_result"
    }
   ],
   "source": [
    "# ファイル名の条件指定\n",
    "list(p.glob(\"**/*.csv\"))"
   ]
  },
  {
   "cell_type": "code",
   "execution_count": 7,
   "id": "8145ccdd-bca4-42f0-94d0-0ab774308e7c",
   "metadata": {},
   "outputs": [
    {
     "data": {
      "text/plain": [
       "[PosixPath('../100knock-process-visualization/chapter-1'),\n",
       " PosixPath('../100knock-process-visualization/font.zip'),\n",
       " PosixPath('../100knock-process-visualization/chapter-1/.vscode'),\n",
       " PosixPath('../100knock-process-visualization/chapter-1/Untitled.ipynb'),\n",
       " PosixPath('../100knock-process-visualization/chapter-1/data'),\n",
       " PosixPath('../100knock-process-visualization/chapter-1/requirements.txt'),\n",
       " PosixPath('../100knock-process-visualization/chapter-1/src'),\n",
       " PosixPath('../100knock-process-visualization/chapter-1/.vscode/settings.json'),\n",
       " PosixPath('../100knock-process-visualization/chapter-1/data/22_shizuoka_all_20210331.csv'),\n",
       " PosixPath('../100knock-process-visualization/chapter-1/data/diff_20210401.csv'),\n",
       " PosixPath('../100knock-process-visualization/chapter-1/data/diff_20210405.csv'),\n",
       " PosixPath('../100knock-process-visualization/chapter-1/data/diff_20210406.csv'),\n",
       " PosixPath('../100knock-process-visualization/chapter-1/data/diff_20210407.csv'),\n",
       " PosixPath('../100knock-process-visualization/chapter-1/data/diff_20210408.csv'),\n",
       " PosixPath('../100knock-process-visualization/chapter-1/data/diff_20210409.csv'),\n",
       " PosixPath('../100knock-process-visualization/chapter-1/data/mst_closeCause.csv'),\n",
       " PosixPath('../100knock-process-visualization/chapter-1/data/mst_column_name.txt'),\n",
       " PosixPath('../100knock-process-visualization/chapter-1/data/mst_corp_kind.csv'),\n",
       " PosixPath('../100knock-process-visualization/chapter-1/data/mst_correct_kbn.csv'),\n",
       " PosixPath('../100knock-process-visualization/chapter-1/data/mst_hihyoji.csv'),\n",
       " PosixPath('../100knock-process-visualization/chapter-1/data/mst_latest.csv'),\n",
       " PosixPath('../100knock-process-visualization/chapter-1/data/mst_process_kbn.csv'),\n",
       " PosixPath('../100knock-process-visualization/chapter-1/data/output'),\n",
       " PosixPath('../100knock-process-visualization/chapter-1/data/output/knock20_graph.png'),\n",
       " PosixPath('../100knock-process-visualization/chapter-1/data/output/knock20_graphdata.csv'),\n",
       " PosixPath('../100knock-process-visualization/chapter-1/data/output/processed_shizuoka.csv'),\n",
       " PosixPath('../100knock-process-visualization/chapter-1/data/output/processed_shizuoka.xlsx'),\n",
       " PosixPath('../100knock-process-visualization/chapter-1/src/.ipynb_checkpoints'),\n",
       " PosixPath('../100knock-process-visualization/chapter-1/src/1章_R.ipynb'),\n",
       " PosixPath('../100knock-process-visualization/chapter-1/src/1章_answer.ipynb'),\n",
       " PosixPath('../100knock-process-visualization/chapter-1/src/1章_python.ipynb'),\n",
       " PosixPath('../100knock-process-visualization/chapter-1/src/.ipynb_checkpoints/1章_python-checkpoint.ipynb')]"
      ]
     },
     "execution_count": 7,
     "metadata": {},
     "output_type": "execute_result"
    }
   ],
   "source": [
    "# 再帰的な検索\n",
    "list(p.glob(\"**/*\"))"
   ]
  },
  {
   "cell_type": "code",
   "execution_count": 8,
   "id": "09884561-f96e-4f55-9504-05c5236af2b1",
   "metadata": {},
   "outputs": [
    {
     "data": {
      "text/plain": [
       "<generator object Path.glob at 0xffffb0568270>"
      ]
     },
     "execution_count": 8,
     "metadata": {},
     "output_type": "execute_result"
    }
   ],
   "source": [
    "p.glob(\"**/*\")"
   ]
  },
  {
   "cell_type": "code",
   "execution_count": 10,
   "id": "28c0c0aa-cabe-4f84-b46d-556be55b16a1",
   "metadata": {},
   "outputs": [
    {
     "name": "stdout",
     "output_type": "stream",
     "text": [
      "[PosixPath('../100knock-process-visualization/chapter-1'), PosixPath('../100knock-process-visualization/font.zip'), PosixPath('../100knock-process-visualization/chapter-1/.vscode'), PosixPath('../100knock-process-visualization/chapter-1/Untitled.ipynb'), PosixPath('../100knock-process-visualization/chapter-1/data'), PosixPath('../100knock-process-visualization/chapter-1/requirements.txt'), PosixPath('../100knock-process-visualization/chapter-1/src'), PosixPath('../100knock-process-visualization/chapter-1/.vscode/settings.json'), PosixPath('../100knock-process-visualization/chapter-1/data/22_shizuoka_all_20210331.csv'), PosixPath('../100knock-process-visualization/chapter-1/data/diff_20210401.csv'), PosixPath('../100knock-process-visualization/chapter-1/data/diff_20210405.csv'), PosixPath('../100knock-process-visualization/chapter-1/data/diff_20210406.csv'), PosixPath('../100knock-process-visualization/chapter-1/data/diff_20210407.csv'), PosixPath('../100knock-process-visualization/chapter-1/data/diff_20210408.csv'), PosixPath('../100knock-process-visualization/chapter-1/data/diff_20210409.csv'), PosixPath('../100knock-process-visualization/chapter-1/data/mst_closeCause.csv'), PosixPath('../100knock-process-visualization/chapter-1/data/mst_column_name.txt'), PosixPath('../100knock-process-visualization/chapter-1/data/mst_corp_kind.csv'), PosixPath('../100knock-process-visualization/chapter-1/data/mst_correct_kbn.csv'), PosixPath('../100knock-process-visualization/chapter-1/data/mst_hihyoji.csv'), PosixPath('../100knock-process-visualization/chapter-1/data/mst_latest.csv'), PosixPath('../100knock-process-visualization/chapter-1/data/mst_process_kbn.csv'), PosixPath('../100knock-process-visualization/chapter-1/data/output'), PosixPath('../100knock-process-visualization/chapter-1/data/output/knock20_graph.png'), PosixPath('../100knock-process-visualization/chapter-1/data/output/knock20_graphdata.csv'), PosixPath('../100knock-process-visualization/chapter-1/data/output/processed_shizuoka.csv'), PosixPath('../100knock-process-visualization/chapter-1/data/output/processed_shizuoka.xlsx'), PosixPath('../100knock-process-visualization/chapter-1/src/.ipynb_checkpoints'), PosixPath('../100knock-process-visualization/chapter-1/src/1章_R.ipynb'), PosixPath('../100knock-process-visualization/chapter-1/src/1章_answer.ipynb'), PosixPath('../100knock-process-visualization/chapter-1/src/1章_python.ipynb'), PosixPath('../100knock-process-visualization/chapter-1/src/.ipynb_checkpoints/1章_python-checkpoint.ipynb')]\n"
     ]
    }
   ],
   "source": [
    "print(list(p.glob(\"**/*\")))"
   ]
  },
  {
   "cell_type": "code",
   "execution_count": 17,
   "id": "e5f89cdb-9373-4a86-bf63-3734e08b001e",
   "metadata": {},
   "outputs": [],
   "source": [
    "filepath_str = str(list(p.glob(\"**/*\")))"
   ]
  },
  {
   "cell_type": "code",
   "execution_count": 18,
   "id": "fe3f3310-8707-4066-9f09-261c5caeac50",
   "metadata": {},
   "outputs": [
    {
     "name": "stdout",
     "output_type": "stream",
     "text": [
      "[PosixPath('../100knock-process-visualization/chapter-1'), PosixPath('../100knock-process-visualization/font.zip'), PosixPath('../100knock-process-visualization/chapter-1/.vscode'), PosixPath('../100knock-process-visualization/chapter-1/Untitled.ipynb'), PosixPath('../100knock-process-visualization/chapter-1/data'), PosixPath('../100knock-process-visualization/chapter-1/requirements.txt'), PosixPath('../100knock-process-visualization/chapter-1/src'), PosixPath('../100knock-process-visualization/chapter-1/.vscode/settings.json'), PosixPath('../100knock-process-visualization/chapter-1/data/22_shizuoka_all_20210331.csv'), PosixPath('../100knock-process-visualization/chapter-1/data/diff_20210401.csv'), PosixPath('../100knock-process-visualization/chapter-1/data/diff_20210405.csv'), PosixPath('../100knock-process-visualization/chapter-1/data/diff_20210406.csv'), PosixPath('../100knock-process-visualization/chapter-1/data/diff_20210407.csv'), PosixPath('../100knock-process-visualization/chapter-1/data/diff_20210408.csv'), PosixPath('../100knock-process-visualization/chapter-1/data/diff_20210409.csv'), PosixPath('../100knock-process-visualization/chapter-1/data/mst_closeCause.csv'), PosixPath('../100knock-process-visualization/chapter-1/data/mst_column_name.txt'), PosixPath('../100knock-process-visualization/chapter-1/data/mst_corp_kind.csv'), PosixPath('../100knock-process-visualization/chapter-1/data/mst_correct_kbn.csv'), PosixPath('../100knock-process-visualization/chapter-1/data/mst_hihyoji.csv'), PosixPath('../100knock-process-visualization/chapter-1/data/mst_latest.csv'), PosixPath('../100knock-process-visualization/chapter-1/data/mst_process_kbn.csv'), PosixPath('../100knock-process-visualization/chapter-1/data/output'), PosixPath('../100knock-process-visualization/chapter-1/data/output/knock20_graph.png'), PosixPath('../100knock-process-visualization/chapter-1/data/output/knock20_graphdata.csv'), PosixPath('../100knock-process-visualization/chapter-1/data/output/processed_shizuoka.csv'), PosixPath('../100knock-process-visualization/chapter-1/data/output/processed_shizuoka.xlsx'), PosixPath('../100knock-process-visualization/chapter-1/src/.ipynb_checkpoints'), PosixPath('../100knock-process-visualization/chapter-1/src/1章_R.ipynb'), PosixPath('../100knock-process-visualization/chapter-1/src/1章_answer.ipynb'), PosixPath('../100knock-process-visualization/chapter-1/src/1章_python.ipynb'), PosixPath('../100knock-process-visualization/chapter-1/src/.ipynb_checkpoints/1章_python-checkpoint.ipynb')]\n"
     ]
    }
   ],
   "source": [
    "print(filepath_str)"
   ]
  },
  {
   "cell_type": "code",
   "execution_count": 21,
   "id": "05a2ecc9-9d72-40a1-82f1-3af674db341b",
   "metadata": {},
   "outputs": [],
   "source": [
    "import io\n",
    "df_filelist = pd.read_csv(io.StringIO(filepath_str), header=None)"
   ]
  },
  {
   "cell_type": "code",
   "execution_count": 22,
   "id": "3373af05-1e4e-4642-b717-4ad187abdec7",
   "metadata": {},
   "outputs": [
    {
     "data": {
      "text/html": [
       "<div>\n",
       "<style scoped>\n",
       "    .dataframe tbody tr th:only-of-type {\n",
       "        vertical-align: middle;\n",
       "    }\n",
       "\n",
       "    .dataframe tbody tr th {\n",
       "        vertical-align: top;\n",
       "    }\n",
       "\n",
       "    .dataframe thead th {\n",
       "        text-align: right;\n",
       "    }\n",
       "</style>\n",
       "<table border=\"1\" class=\"dataframe\">\n",
       "  <thead>\n",
       "    <tr style=\"text-align: right;\">\n",
       "      <th></th>\n",
       "      <th>0</th>\n",
       "      <th>1</th>\n",
       "      <th>2</th>\n",
       "      <th>3</th>\n",
       "      <th>4</th>\n",
       "      <th>5</th>\n",
       "      <th>6</th>\n",
       "      <th>7</th>\n",
       "      <th>8</th>\n",
       "      <th>9</th>\n",
       "      <th>...</th>\n",
       "      <th>22</th>\n",
       "      <th>23</th>\n",
       "      <th>24</th>\n",
       "      <th>25</th>\n",
       "      <th>26</th>\n",
       "      <th>27</th>\n",
       "      <th>28</th>\n",
       "      <th>29</th>\n",
       "      <th>30</th>\n",
       "      <th>31</th>\n",
       "    </tr>\n",
       "  </thead>\n",
       "  <tbody>\n",
       "    <tr>\n",
       "      <th>0</th>\n",
       "      <td>[PosixPath('../100knock-process-visualization/...</td>\n",
       "      <td>PosixPath('../100knock-process-visualization/...</td>\n",
       "      <td>PosixPath('../100knock-process-visualization/...</td>\n",
       "      <td>PosixPath('../100knock-process-visualization/...</td>\n",
       "      <td>PosixPath('../100knock-process-visualization/...</td>\n",
       "      <td>PosixPath('../100knock-process-visualization/...</td>\n",
       "      <td>PosixPath('../100knock-process-visualization/...</td>\n",
       "      <td>PosixPath('../100knock-process-visualization/...</td>\n",
       "      <td>PosixPath('../100knock-process-visualization/...</td>\n",
       "      <td>PosixPath('../100knock-process-visualization/...</td>\n",
       "      <td>...</td>\n",
       "      <td>PosixPath('../100knock-process-visualization/...</td>\n",
       "      <td>PosixPath('../100knock-process-visualization/...</td>\n",
       "      <td>PosixPath('../100knock-process-visualization/...</td>\n",
       "      <td>PosixPath('../100knock-process-visualization/...</td>\n",
       "      <td>PosixPath('../100knock-process-visualization/...</td>\n",
       "      <td>PosixPath('../100knock-process-visualization/...</td>\n",
       "      <td>PosixPath('../100knock-process-visualization/...</td>\n",
       "      <td>PosixPath('../100knock-process-visualization/...</td>\n",
       "      <td>PosixPath('../100knock-process-visualization/...</td>\n",
       "      <td>PosixPath('../100knock-process-visualization/...</td>\n",
       "    </tr>\n",
       "  </tbody>\n",
       "</table>\n",
       "<p>1 rows × 32 columns</p>\n",
       "</div>"
      ],
      "text/plain": [
       "                                                  0   \\\n",
       "0  [PosixPath('../100knock-process-visualization/...   \n",
       "\n",
       "                                                  1   \\\n",
       "0   PosixPath('../100knock-process-visualization/...   \n",
       "\n",
       "                                                  2   \\\n",
       "0   PosixPath('../100knock-process-visualization/...   \n",
       "\n",
       "                                                  3   \\\n",
       "0   PosixPath('../100knock-process-visualization/...   \n",
       "\n",
       "                                                  4   \\\n",
       "0   PosixPath('../100knock-process-visualization/...   \n",
       "\n",
       "                                                  5   \\\n",
       "0   PosixPath('../100knock-process-visualization/...   \n",
       "\n",
       "                                                  6   \\\n",
       "0   PosixPath('../100knock-process-visualization/...   \n",
       "\n",
       "                                                  7   \\\n",
       "0   PosixPath('../100knock-process-visualization/...   \n",
       "\n",
       "                                                  8   \\\n",
       "0   PosixPath('../100knock-process-visualization/...   \n",
       "\n",
       "                                                  9   ...  \\\n",
       "0   PosixPath('../100knock-process-visualization/...  ...   \n",
       "\n",
       "                                                  22  \\\n",
       "0   PosixPath('../100knock-process-visualization/...   \n",
       "\n",
       "                                                  23  \\\n",
       "0   PosixPath('../100knock-process-visualization/...   \n",
       "\n",
       "                                                  24  \\\n",
       "0   PosixPath('../100knock-process-visualization/...   \n",
       "\n",
       "                                                  25  \\\n",
       "0   PosixPath('../100knock-process-visualization/...   \n",
       "\n",
       "                                                  26  \\\n",
       "0   PosixPath('../100knock-process-visualization/...   \n",
       "\n",
       "                                                  27  \\\n",
       "0   PosixPath('../100knock-process-visualization/...   \n",
       "\n",
       "                                                  28  \\\n",
       "0   PosixPath('../100knock-process-visualization/...   \n",
       "\n",
       "                                                  29  \\\n",
       "0   PosixPath('../100knock-process-visualization/...   \n",
       "\n",
       "                                                  30  \\\n",
       "0   PosixPath('../100knock-process-visualization/...   \n",
       "\n",
       "                                                  31  \n",
       "0   PosixPath('../100knock-process-visualization/...  \n",
       "\n",
       "[1 rows x 32 columns]"
      ]
     },
     "execution_count": 22,
     "metadata": {},
     "output_type": "execute_result"
    }
   ],
   "source": [
    "df_filelist"
   ]
  },
  {
   "cell_type": "code",
   "execution_count": 23,
   "id": "8adc44cd-4802-4a52-8240-380c3ec128bd",
   "metadata": {},
   "outputs": [
    {
     "data": {
      "text/html": [
       "<div>\n",
       "<style scoped>\n",
       "    .dataframe tbody tr th:only-of-type {\n",
       "        vertical-align: middle;\n",
       "    }\n",
       "\n",
       "    .dataframe tbody tr th {\n",
       "        vertical-align: top;\n",
       "    }\n",
       "\n",
       "    .dataframe thead th {\n",
       "        text-align: right;\n",
       "    }\n",
       "</style>\n",
       "<table border=\"1\" class=\"dataframe\">\n",
       "  <thead>\n",
       "    <tr style=\"text-align: right;\">\n",
       "      <th></th>\n",
       "      <th>0</th>\n",
       "    </tr>\n",
       "  </thead>\n",
       "  <tbody>\n",
       "    <tr>\n",
       "      <th>0</th>\n",
       "      <td>[PosixPath('../100knock-process-visualization/...</td>\n",
       "    </tr>\n",
       "    <tr>\n",
       "      <th>1</th>\n",
       "      <td>PosixPath('../100knock-process-visualization/...</td>\n",
       "    </tr>\n",
       "    <tr>\n",
       "      <th>2</th>\n",
       "      <td>PosixPath('../100knock-process-visualization/...</td>\n",
       "    </tr>\n",
       "    <tr>\n",
       "      <th>3</th>\n",
       "      <td>PosixPath('../100knock-process-visualization/...</td>\n",
       "    </tr>\n",
       "    <tr>\n",
       "      <th>4</th>\n",
       "      <td>PosixPath('../100knock-process-visualization/...</td>\n",
       "    </tr>\n",
       "    <tr>\n",
       "      <th>5</th>\n",
       "      <td>PosixPath('../100knock-process-visualization/...</td>\n",
       "    </tr>\n",
       "    <tr>\n",
       "      <th>6</th>\n",
       "      <td>PosixPath('../100knock-process-visualization/...</td>\n",
       "    </tr>\n",
       "    <tr>\n",
       "      <th>7</th>\n",
       "      <td>PosixPath('../100knock-process-visualization/...</td>\n",
       "    </tr>\n",
       "    <tr>\n",
       "      <th>8</th>\n",
       "      <td>PosixPath('../100knock-process-visualization/...</td>\n",
       "    </tr>\n",
       "    <tr>\n",
       "      <th>9</th>\n",
       "      <td>PosixPath('../100knock-process-visualization/...</td>\n",
       "    </tr>\n",
       "    <tr>\n",
       "      <th>10</th>\n",
       "      <td>PosixPath('../100knock-process-visualization/...</td>\n",
       "    </tr>\n",
       "    <tr>\n",
       "      <th>11</th>\n",
       "      <td>PosixPath('../100knock-process-visualization/...</td>\n",
       "    </tr>\n",
       "    <tr>\n",
       "      <th>12</th>\n",
       "      <td>PosixPath('../100knock-process-visualization/...</td>\n",
       "    </tr>\n",
       "    <tr>\n",
       "      <th>13</th>\n",
       "      <td>PosixPath('../100knock-process-visualization/...</td>\n",
       "    </tr>\n",
       "    <tr>\n",
       "      <th>14</th>\n",
       "      <td>PosixPath('../100knock-process-visualization/...</td>\n",
       "    </tr>\n",
       "    <tr>\n",
       "      <th>15</th>\n",
       "      <td>PosixPath('../100knock-process-visualization/...</td>\n",
       "    </tr>\n",
       "    <tr>\n",
       "      <th>16</th>\n",
       "      <td>PosixPath('../100knock-process-visualization/...</td>\n",
       "    </tr>\n",
       "    <tr>\n",
       "      <th>17</th>\n",
       "      <td>PosixPath('../100knock-process-visualization/...</td>\n",
       "    </tr>\n",
       "    <tr>\n",
       "      <th>18</th>\n",
       "      <td>PosixPath('../100knock-process-visualization/...</td>\n",
       "    </tr>\n",
       "    <tr>\n",
       "      <th>19</th>\n",
       "      <td>PosixPath('../100knock-process-visualization/...</td>\n",
       "    </tr>\n",
       "    <tr>\n",
       "      <th>20</th>\n",
       "      <td>PosixPath('../100knock-process-visualization/...</td>\n",
       "    </tr>\n",
       "    <tr>\n",
       "      <th>21</th>\n",
       "      <td>PosixPath('../100knock-process-visualization/...</td>\n",
       "    </tr>\n",
       "    <tr>\n",
       "      <th>22</th>\n",
       "      <td>PosixPath('../100knock-process-visualization/...</td>\n",
       "    </tr>\n",
       "    <tr>\n",
       "      <th>23</th>\n",
       "      <td>PosixPath('../100knock-process-visualization/...</td>\n",
       "    </tr>\n",
       "    <tr>\n",
       "      <th>24</th>\n",
       "      <td>PosixPath('../100knock-process-visualization/...</td>\n",
       "    </tr>\n",
       "    <tr>\n",
       "      <th>25</th>\n",
       "      <td>PosixPath('../100knock-process-visualization/...</td>\n",
       "    </tr>\n",
       "    <tr>\n",
       "      <th>26</th>\n",
       "      <td>PosixPath('../100knock-process-visualization/...</td>\n",
       "    </tr>\n",
       "    <tr>\n",
       "      <th>27</th>\n",
       "      <td>PosixPath('../100knock-process-visualization/...</td>\n",
       "    </tr>\n",
       "    <tr>\n",
       "      <th>28</th>\n",
       "      <td>PosixPath('../100knock-process-visualization/...</td>\n",
       "    </tr>\n",
       "    <tr>\n",
       "      <th>29</th>\n",
       "      <td>PosixPath('../100knock-process-visualization/...</td>\n",
       "    </tr>\n",
       "    <tr>\n",
       "      <th>30</th>\n",
       "      <td>PosixPath('../100knock-process-visualization/...</td>\n",
       "    </tr>\n",
       "    <tr>\n",
       "      <th>31</th>\n",
       "      <td>PosixPath('../100knock-process-visualization/...</td>\n",
       "    </tr>\n",
       "  </tbody>\n",
       "</table>\n",
       "</div>"
      ],
      "text/plain": [
       "                                                    0\n",
       "0   [PosixPath('../100knock-process-visualization/...\n",
       "1    PosixPath('../100knock-process-visualization/...\n",
       "2    PosixPath('../100knock-process-visualization/...\n",
       "3    PosixPath('../100knock-process-visualization/...\n",
       "4    PosixPath('../100knock-process-visualization/...\n",
       "5    PosixPath('../100knock-process-visualization/...\n",
       "6    PosixPath('../100knock-process-visualization/...\n",
       "7    PosixPath('../100knock-process-visualization/...\n",
       "8    PosixPath('../100knock-process-visualization/...\n",
       "9    PosixPath('../100knock-process-visualization/...\n",
       "10   PosixPath('../100knock-process-visualization/...\n",
       "11   PosixPath('../100knock-process-visualization/...\n",
       "12   PosixPath('../100knock-process-visualization/...\n",
       "13   PosixPath('../100knock-process-visualization/...\n",
       "14   PosixPath('../100knock-process-visualization/...\n",
       "15   PosixPath('../100knock-process-visualization/...\n",
       "16   PosixPath('../100knock-process-visualization/...\n",
       "17   PosixPath('../100knock-process-visualization/...\n",
       "18   PosixPath('../100knock-process-visualization/...\n",
       "19   PosixPath('../100knock-process-visualization/...\n",
       "20   PosixPath('../100knock-process-visualization/...\n",
       "21   PosixPath('../100knock-process-visualization/...\n",
       "22   PosixPath('../100knock-process-visualization/...\n",
       "23   PosixPath('../100knock-process-visualization/...\n",
       "24   PosixPath('../100knock-process-visualization/...\n",
       "25   PosixPath('../100knock-process-visualization/...\n",
       "26   PosixPath('../100knock-process-visualization/...\n",
       "27   PosixPath('../100knock-process-visualization/...\n",
       "28   PosixPath('../100knock-process-visualization/...\n",
       "29   PosixPath('../100knock-process-visualization/...\n",
       "30   PosixPath('../100knock-process-visualization/...\n",
       "31   PosixPath('../100knock-process-visualization/..."
      ]
     },
     "execution_count": 23,
     "metadata": {},
     "output_type": "execute_result"
    }
   ],
   "source": [
    "df_filelist.T"
   ]
  },
  {
   "cell_type": "code",
   "execution_count": 25,
   "id": "e2e04ef8-3dd7-47c7-a625-5d83d8dddfc9",
   "metadata": {},
   "outputs": [
    {
     "data": {
      "text/plain": [
       "[PosixPath('../100knock-process-visualization/chapter-1'),\n",
       " PosixPath('../100knock-process-visualization/font.zip'),\n",
       " PosixPath('../100knock-process-visualization/chapter-1/.vscode'),\n",
       " PosixPath('../100knock-process-visualization/chapter-1/Untitled.ipynb'),\n",
       " PosixPath('../100knock-process-visualization/chapter-1/data'),\n",
       " PosixPath('../100knock-process-visualization/chapter-1/requirements.txt'),\n",
       " PosixPath('../100knock-process-visualization/chapter-1/src'),\n",
       " PosixPath('../100knock-process-visualization/chapter-1/.vscode/settings.json'),\n",
       " PosixPath('../100knock-process-visualization/chapter-1/data/22_shizuoka_all_20210331.csv'),\n",
       " PosixPath('../100knock-process-visualization/chapter-1/data/diff_20210401.csv'),\n",
       " PosixPath('../100knock-process-visualization/chapter-1/data/diff_20210405.csv'),\n",
       " PosixPath('../100knock-process-visualization/chapter-1/data/diff_20210406.csv'),\n",
       " PosixPath('../100knock-process-visualization/chapter-1/data/diff_20210407.csv'),\n",
       " PosixPath('../100knock-process-visualization/chapter-1/data/diff_20210408.csv'),\n",
       " PosixPath('../100knock-process-visualization/chapter-1/data/diff_20210409.csv'),\n",
       " PosixPath('../100knock-process-visualization/chapter-1/data/mst_closeCause.csv'),\n",
       " PosixPath('../100knock-process-visualization/chapter-1/data/mst_column_name.txt'),\n",
       " PosixPath('../100knock-process-visualization/chapter-1/data/mst_corp_kind.csv'),\n",
       " PosixPath('../100knock-process-visualization/chapter-1/data/mst_correct_kbn.csv'),\n",
       " PosixPath('../100knock-process-visualization/chapter-1/data/mst_hihyoji.csv'),\n",
       " PosixPath('../100knock-process-visualization/chapter-1/data/mst_latest.csv'),\n",
       " PosixPath('../100knock-process-visualization/chapter-1/data/mst_process_kbn.csv'),\n",
       " PosixPath('../100knock-process-visualization/chapter-1/data/output'),\n",
       " PosixPath('../100knock-process-visualization/chapter-1/data/output/knock20_graph.png'),\n",
       " PosixPath('../100knock-process-visualization/chapter-1/data/output/knock20_graphdata.csv'),\n",
       " PosixPath('../100knock-process-visualization/chapter-1/data/output/processed_shizuoka.csv'),\n",
       " PosixPath('../100knock-process-visualization/chapter-1/data/output/processed_shizuoka.xlsx'),\n",
       " PosixPath('../100knock-process-visualization/chapter-1/src/.ipynb_checkpoints'),\n",
       " PosixPath('../100knock-process-visualization/chapter-1/src/1章_R.ipynb'),\n",
       " PosixPath('../100knock-process-visualization/chapter-1/src/1章_answer.ipynb'),\n",
       " PosixPath('../100knock-process-visualization/chapter-1/src/1章_python.ipynb'),\n",
       " PosixPath('../100knock-process-visualization/chapter-1/src/.ipynb_checkpoints/1章_python-checkpoint.ipynb')]"
      ]
     },
     "execution_count": 25,
     "metadata": {},
     "output_type": "execute_result"
    }
   ],
   "source": [
    "list(p.glob(\"**/*\"))"
   ]
  },
  {
   "cell_type": "markdown",
   "id": "cf47fb58-f6bd-4ecb-9363-300f28f2418f",
   "metadata": {},
   "source": [
    "Pathlibについてさらなる情報\n",
    "https://dev.classmethod.jp/articles/python-pathlib-intro/"
   ]
  },
  {
   "cell_type": "code",
   "execution_count": 28,
   "id": "9819ecc4-afcf-4d8d-8655-c37f30cca1a0",
   "metadata": {},
   "outputs": [],
   "source": [
    "file = open('test.txt', 'w')\n",
    "file.write(str(list(p.glob(\"**/*\"))))\n",
    "file.close()"
   ]
  },
  {
   "cell_type": "markdown",
   "id": "314469f0-56dd-4a35-8eb3-2c6e65e40b98",
   "metadata": {},
   "source": [
    "## globモジュールでやる方法"
   ]
  },
  {
   "cell_type": "code",
   "execution_count": 30,
   "id": "7f12fcd0-d989-4a13-80f5-0a1a35449b8f",
   "metadata": {},
   "outputs": [
    {
     "data": {
      "text/plain": [
       "'/home/jovyan/work/test_file'"
      ]
     },
     "execution_count": 30,
     "metadata": {},
     "output_type": "execute_result"
    }
   ],
   "source": [
    "pwd"
   ]
  },
  {
   "cell_type": "code",
   "execution_count": 36,
   "id": "1cae7031-f939-4cbb-a91b-4a7100a59866",
   "metadata": {},
   "outputs": [
    {
     "name": "stdout",
     "output_type": "stream",
     "text": [
      "../100knock-process-visualization/chapter-1/Untitled.ipynb\n",
      "../100knock-process-visualization/chapter-1/data\n",
      "../100knock-process-visualization/chapter-1/requirements.txt\n",
      "../100knock-process-visualization/chapter-1/src\n"
     ]
    }
   ],
   "source": [
    "import glob\n",
    "files = glob.glob(\"../100knock-process-visualization/chapter-1/*\")\n",
    "for file in files:\n",
    "    print(file)"
   ]
  },
  {
   "cell_type": "code",
   "execution_count": 50,
   "id": "c07f7c75-09af-4932-b7f3-ada991dc9954",
   "metadata": {},
   "outputs": [
    {
     "name": "stdout",
     "output_type": "stream",
     "text": [
      "PROCESS.md\n",
      "example.ipynb\n",
      "font_test_20221208.ipynb\n",
      "font_test_20221209-Copy1.ipynb\n",
      "font_test_20221209.ipynb\n",
      "make_filelist.ipynb\n"
     ]
    }
   ],
   "source": [
    "files = glob.glob(\"*\")\n",
    "for file in files:\n",
    "    print(file)"
   ]
  },
  {
   "cell_type": "code",
   "execution_count": null,
   "id": "32731b2a-643c-453d-8137-aea9969474d0",
   "metadata": {},
   "outputs": [],
   "source": []
  }
 ],
 "metadata": {
  "kernelspec": {
   "display_name": "Python 3 (ipykernel)",
   "language": "python",
   "name": "python3"
  },
  "language_info": {
   "codemirror_mode": {
    "name": "ipython",
    "version": 3
   },
   "file_extension": ".py",
   "mimetype": "text/x-python",
   "name": "python",
   "nbconvert_exporter": "python",
   "pygments_lexer": "ipython3",
   "version": "3.10.6"
  }
 },
 "nbformat": 4,
 "nbformat_minor": 5
}
